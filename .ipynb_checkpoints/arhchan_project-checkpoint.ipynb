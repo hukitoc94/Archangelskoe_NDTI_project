{
 "cells": [
  {
   "cell_type": "code",
   "execution_count": 2,
   "id": "twelve-naples",
   "metadata": {},
   "outputs": [],
   "source": [
    "#необходимые пакеты \n",
    "import ee, geemap, os\n",
    "import pandas as pd \n",
    "import numpy as np \n",
    "import matplotlib.pyplot as plt \n",
    "import seaborn as sns \n",
    "import geopandas as gpd \n",
    "import scipy"
   ]
  },
  {
   "cell_type": "code",
   "execution_count": null,
   "id": "alien-devon",
   "metadata": {},
   "outputs": [],
   "source": [
    "#geemap.update_package()\n"
   ]
  },
  {
   "cell_type": "code",
   "execution_count": null,
   "id": "crude-secondary",
   "metadata": {},
   "outputs": [],
   "source": [
    "ee.Initialize()"
   ]
  },
  {
   "cell_type": "markdown",
   "id": "permanent-cuisine",
   "metadata": {},
   "source": [
    "### Границы региона "
   ]
  },
  {
   "cell_type": "code",
   "execution_count": null,
   "id": "difficult-trading",
   "metadata": {},
   "outputs": [],
   "source": [
    "region_boundary = geemap.geojson_to_ee('data/budenovsk_district_boundaries.geojson')\n",
    "\n",
    "Budenovsk = geemap.Map(zoom = 10)\n",
    "\n",
    "Budenovsk.centerObject(region_boundary)\n",
    "\n",
    "Budenovsk.addLayer(region_boundary ,{'color' : \"FF0000\"}, 'Границы региона' )\n",
    "\n",
    "Budenovsk"
   ]
  },
  {
   "cell_type": "markdown",
   "id": "brief-webmaster",
   "metadata": {},
   "source": [
    "### подготовка коллекции для дальнейшей обработки"
   ]
  },
  {
   "cell_type": "code",
   "execution_count": null,
   "id": "alike-disco",
   "metadata": {},
   "outputs": [],
   "source": [
    "# возьмем коллекцию сентинел и обработаем ее немного\n",
    "def masking(img) : \n",
    "    cloudProb = img.select('MSK_CLDPRB')  # покрытие облаками\n",
    "    snowProb = img.select('MSK_SNWPRB') # покрытие снегом\n",
    "    cloud = cloudProb.lt(1) # создали бинарную маску иными словами просто все что имеет значение меньше 5 одна группа выше другая\n",
    "                            # а мы помним что пиксели принимают значения от 0 до 255\n",
    "    snow = snowProb.lt(1) # тоже самое что с облаками\n",
    "    scl = img.select('SCL') # слой с классификатором(есть в sentinel 2 уровня обработки 2А)\n",
    "    shadow = scl.neq(3);# 3 в классификации это тени от облаков\n",
    "    cirrus_medium = scl.neq(8) # тоже по классификации облака \n",
    "    cirrus_high = scl.neq(9) # аналогично облака\n",
    "    cirrus = scl.neq(10); # 10 это перистые облака или цирусы\n",
    "    masked_img = img.updateMask(cloud).updateMask(shadow).updateMask(cirrus).updateMask(cirrus_medium).updateMask(cirrus_high)\n",
    "    return(masked_img)\n",
    "\n",
    "def clipper_region(image):\n",
    "    clipped = image.clip(region_boundary.geometry())\n",
    "    return  clipped \n",
    "\n",
    "#создали коллекцию с изображениями\n",
    "start = ee.Date('2018-09-01')\n",
    "finish = ee.Date('2019-09-01')\n",
    "sentinel2_collection = ee.ImageCollection('COPERNICUS/S2_SR') \\\n",
    "    .filterBounds(region_boundary.geometry()) \\\n",
    "    .filterMetadata(\"CLOUD_COVERAGE_ASSESSMENT\", 'less_than', 20.0) \\\n",
    "    .filterMetadata('SNOW_ICE_PERCENTAGE','less_than', 5.0) \\\n",
    "    .filterDate(start, finish)  \\\n",
    "    .map(masking).map(clipper_region)\n",
    "sentinel2_collection_list = sentinel2_collection.toList(sentinel2_collection.size().getInfo())\n",
    "\n",
    "#вынимаем уникальные даты из датасета\n",
    "sentinel2_collection_list = sentinel2_collection.toList(sentinel2_collection.size().getInfo())\n",
    "sentinel2_time_list = []\n",
    "for i in range(sentinel2_collection.size().getInfo()):\n",
    "    img = ee.Image(sentinel2_collection_list.get(i))\n",
    "    time = ee.Date(img.get('system:time_start')).format('YYYY-MM-dd').getInfo()\n",
    "    sentinel2_time_list.append(time)\n",
    "\n",
    "#уникальные даты из датасета\n",
    "unique_dates = sorted(list(set(sentinel2_time_list)))\n",
    "\n",
    "diff = finish.difference(start , 'day')\n",
    "Range = ee.List.sequence(0, diff.subtract(1)).map(lambda day :  start.advance(day,'day'))\n",
    "def day_mosaics(date , newlist):\n",
    "    date = ee.Date(date)\n",
    "    newlist = ee.List(newlist)\n",
    "    \n",
    "    filtered = sentinel2_collection.filterDate(date , date.advance(1,'day'))\n",
    "    \n",
    "    image = ee.Image(filtered.mosaic())\n",
    "    \n",
    "    return ee.List(ee.Algorithms.If(filtered.size(), newlist.add(image), newlist))\n",
    "sentinel2_collection_mosaic = ee.ImageCollection(ee.List(Range.iterate(day_mosaics, ee.List([]))))"
   ]
  },
  {
   "cell_type": "code",
   "execution_count": null,
   "id": "naval-support",
   "metadata": {},
   "outputs": [],
   "source": [
    "#визуал для сентинел 2 \n",
    "visualization = {\"min\": 0.0, \"max\": 2000,\"bands\": ['B4', 'B3', 'B2']}"
   ]
  },
  {
   "cell_type": "code",
   "execution_count": null,
   "id": "wound-switzerland",
   "metadata": {},
   "outputs": [],
   "source": [
    "def sentinel2_NDTI(image):\n",
    "    NDTI = image.normalizedDifference(['B11', 'B12']).rename('NDTI')\n",
    "    return image.addBands([NDTI])\n",
    "\n",
    "MiniNDTI = sentinel2_collection_mosaic.map(sentinel2_NDTI).select('NDTI').min().rename('minNDTI').reproject(crs= 'EPSG:32638' , crsTransform = [60, 0, 300000, 0, -60, 5000040])\n",
    "\n",
    "\n",
    "\n"
   ]
  },
  {
   "cell_type": "code",
   "execution_count": null,
   "id": "selective-uganda",
   "metadata": {},
   "outputs": [],
   "source": [
    "Budenovsk.addLayer(MiniNDTI, {'min' : 0 , 'max' : 0.2, 'palette' :['FFFF00','FFF000','FF0000' ]}, \"minNDTI\") # добавили на карту"
   ]
  },
  {
   "cell_type": "code",
   "execution_count": null,
   "id": "starting-cleaning",
   "metadata": {},
   "outputs": [],
   "source": [
    "Archangelskoe = gpd.read_file('data/archangelskoe_wgs84.geojson' )\n",
    "Praskoveya = gpd.read_file('Data/praskoveya_wgs84.geojson')\n",
    "\n",
    "Archangelskoe['type'] = 'PP'\n",
    "Praskoveya['type'] = 'TT'\n",
    "\n",
    "fields = Praskoveya.append(Archangelskoe)[['type','geometry']]\n",
    "fields['number'] = [i for i in range(0,fields.shape[0])]\n",
    "fields_ee = geemap.geopandas_to_ee(fields)\n",
    "\n",
    "\n"
   ]
  },
  {
   "cell_type": "code",
   "execution_count": null,
   "id": "complete-gateway",
   "metadata": {},
   "outputs": [],
   "source": [
    "Budenovsk.add_styled_vector(fields_ee, column = 'type',palette = ['00FF2A',\"FF8001\" ], layer_name = 'разные технологии обработки') \n"
   ]
  },
  {
   "cell_type": "code",
   "execution_count": null,
   "id": "boolean-messaging",
   "metadata": {},
   "outputs": [],
   "source": [
    "\n",
    "#minNDTI_DF = MiniNDTI.select('minNDTI').sampleRegions(fields_ee)\n",
    "#geemap.ee_export_vector(minNDTI_DF, filename='C:/Users/User/Google Диск/python_notebooks/Archangelskoe_NDTI_project/Data/minNDTI.csv')\n",
    "\n"
   ]
  },
  {
   "cell_type": "code",
   "execution_count": null,
   "id": "composed-biology",
   "metadata": {},
   "outputs": [],
   "source": [
    "minNDTI_pd_df = pd.read_csv('Data/minNDTI.csv')\n",
    "minNDTI_pd_df\n",
    "\n",
    "minNDTI_pd_df[['field_№', 'number']] = minNDTI_pd_df['system:index'].str.split('_', 1, expand=True)\n",
    "minNDTI_pd_df = minNDTI_pd_df.drop([\"system:index\",'number' ], 1)\n",
    "\n",
    "minNDTI_pd_df"
   ]
  },
  {
   "cell_type": "code",
   "execution_count": null,
   "id": "listed-waterproof",
   "metadata": {},
   "outputs": [],
   "source": [
    "# проверка на нормальность тестом холмогорова \n",
    "\n",
    "#sns.set_style(\"whitegrid\") \n",
    "\n",
    "sns.set_palette(\"prism_r\")\n",
    "\n",
    "\n",
    "def kholmogorov_norm_test(x):\n",
    "    if scipy.stats.kstest(x, 'norm')[1] < 0.05:\n",
    "        return('распределение отличается от нормального')\n",
    "    else:\n",
    "        return('распределение нормальное')\n",
    "NDTI_sevoob_stats = minNDTI_pd_df[['type', 'minNDTI']].groupby(['type'] ).aggregate([np.count_nonzero, np.mean, np.median, kholmogorov_norm_test])\n",
    "\n",
    "display(NDTI_sevoob_stats)\n",
    "\n",
    "dentisty = sns.displot(minNDTI_pd_df, x='minNDTI',\n",
    "                       hue=\"type\", \n",
    "                       kind=\"kde\", \n",
    "                       fill=True)\n",
    "\n",
    "x = minNDTI_pd_df[minNDTI_pd_df.type == 'TT'][\"minNDTI\"]\n",
    "y = minNDTI_pd_df[minNDTI_pd_df.type != 'TT'][\"minNDTI\"]\n",
    "if scipy.stats.kruskal(x,y)[1] < 0.05:\n",
    "    res = 'выборки различаются'\n",
    "else:\n",
    "    res = 'выборки не различаются'\n",
    "print(f'{res} при p уровне значимости {scipy.stats.kruskal(x,y)[1]}')    \n",
    "    "
   ]
  },
  {
   "cell_type": "markdown",
   "id": "empty-world",
   "metadata": {},
   "source": [
    "#### Короткое резюме \n",
    "все отлично получилось , различия между выборками есть\n",
    "1) нужно посмотреть другие годы , и покрасивее сделать графику \n",
    "2) переходить к анализу по культурам (нужно будет делать кластерный анализ по группам "
   ]
  },
  {
   "cell_type": "markdown",
   "id": "cheap-level",
   "metadata": {},
   "source": [
    "### Работа по кластерам\n",
    "\n",
    "\n",
    "мы получили данные по группам, сейчася их добавлю и будем думать что делать дальше "
   ]
  },
  {
   "cell_type": "code",
   "execution_count": null,
   "id": "bound-mountain",
   "metadata": {},
   "outputs": [],
   "source": [
    "CLUSTER_NDVI = gpd.read_file('Data/RESULT_CLUSTER_NDVI_DATA.csv')\n",
    "CLUSTER_NDVI.crs = 'epsg:4326'"
   ]
  },
  {
   "cell_type": "code",
   "execution_count": 1,
   "id": "trying-senator",
   "metadata": {},
   "outputs": [
    {
     "ename": "NameError",
     "evalue": "name 'CLUSTER_NDVI' is not defined",
     "output_type": "error",
     "traceback": [
      "\u001b[1;31m---------------------------------------------------------------------------\u001b[0m",
      "\u001b[1;31mNameError\u001b[0m                                 Traceback (most recent call last)",
      "\u001b[1;32m<ipython-input-1-638912f48f31>\u001b[0m in \u001b[0;36m<module>\u001b[1;34m\u001b[0m\n\u001b[1;32m----> 1\u001b[1;33m \u001b[0mCLUSTER_NDVI\u001b[0m\u001b[1;33m\u001b[0m\u001b[1;33m\u001b[0m\u001b[0m\n\u001b[0m",
      "\u001b[1;31mNameError\u001b[0m: name 'CLUSTER_NDVI' is not defined"
     ]
    }
   ],
   "source": [
    "CLUSTER_NDVI"
   ]
  },
  {
   "cell_type": "code",
   "execution_count": null,
   "id": "tired-superior",
   "metadata": {},
   "outputs": [],
   "source": []
  }
 ],
 "metadata": {
  "kernelspec": {
   "display_name": "Python 3",
   "language": "python",
   "name": "python3"
  },
  "language_info": {
   "codemirror_mode": {
    "name": "ipython",
    "version": 3
   },
   "file_extension": ".py",
   "mimetype": "text/x-python",
   "name": "python",
   "nbconvert_exporter": "python",
   "pygments_lexer": "ipython3",
   "version": "3.8.8"
  }
 },
 "nbformat": 4,
 "nbformat_minor": 5
}

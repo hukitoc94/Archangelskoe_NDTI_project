{
 "cells": [
  {
   "cell_type": "code",
   "execution_count": 1,
   "metadata": {},
   "outputs": [],
   "source": [
    "#необходимые пакеты \n",
    "import ee, geemap, os\n",
    "import pandas as pd \n",
    "import numpy as np \n",
    "import matplotlib.pyplot as plt \n",
    "import seaborn as sns \n",
    "import geopandas as gpd \n",
    "import scipy"
   ]
  },
  {
   "cell_type": "code",
   "execution_count": 2,
   "metadata": {},
   "outputs": [],
   "source": [
    "ee.Initialize()"
   ]
  },
  {
   "cell_type": "markdown",
   "metadata": {},
   "source": [
    "### Границы региона "
   ]
  },
  {
   "cell_type": "code",
   "execution_count": 3,
   "metadata": {},
   "outputs": [
    {
     "data": {
      "application/vnd.jupyter.widget-view+json": {
       "model_id": "95d1e18a901c4f039effae2a5623c0f1",
       "version_major": 2,
       "version_minor": 0
      },
      "text/plain": [
       "Map(center=[44.745544055004785, 44.14114333519604], controls=(WidgetControl(options=['position'], widget=HBox(…"
      ]
     },
     "metadata": {},
     "output_type": "display_data"
    }
   ],
   "source": [
    "region_boundary = geemap.geojson_to_ee('data/budenovsk_district_boundaries.geojson')\n",
    "\n",
    "Budenovsk = geemap.Map(zoom = 10)\n",
    "\n",
    "Budenovsk.centerObject(region_boundary)\n",
    "\n",
    "Budenovsk.addLayer(region_boundary ,{'color' : \"FF0000\"}, 'Границы региона' )\n",
    "\n",
    "Budenovsk"
   ]
  },
  {
   "cell_type": "markdown",
   "metadata": {},
   "source": [
    "### подготовка коллекции для дальнейшей обработки"
   ]
  },
  {
   "cell_type": "code",
   "execution_count": 4,
   "metadata": {},
   "outputs": [],
   "source": [
    "# возьмем коллекцию сентинел и обработаем ее немного\n",
    "def masking(img) : \n",
    "    cloudProb = img.select('MSK_CLDPRB')  # покрытие облаками\n",
    "    snowProb = img.select('MSK_SNWPRB') # покрытие снегом\n",
    "    cloud = cloudProb.lt(1) # создали бинарную маску иными словами просто все что имеет значение меньше 5 одна группа выше другая\n",
    "                            # а мы помним что пиксели принимают значения от 0 до 255\n",
    "    snow = snowProb.lt(1) # тоже самое что с облаками\n",
    "    scl = img.select('SCL') # слой с классификатором(есть в sentinel 2 уровня обработки 2А)\n",
    "    shadow = scl.neq(3);# 3 в классификации это тени от облаков\n",
    "    cirrus_medium = scl.neq(8) # тоже по классификации облака \n",
    "    cirrus_high = scl.neq(9) # аналогично облака\n",
    "    cirrus = scl.neq(10); # 10 это перистые облака или цирусы\n",
    "    masked_img = img.updateMask(cloud).updateMask(shadow).updateMask(cirrus).updateMask(cirrus_medium).updateMask(cirrus_high)\n",
    "    return(masked_img)\n",
    "\n",
    "def clipper_region(image):\n",
    "    clipped = image.clip(region_boundary.geometry())\n",
    "    return  clipped \n",
    "\n",
    "#создали коллекцию с изображениями\n",
    "start = ee.Date('2018-09-01')\n",
    "finish = ee.Date('2019-09-01')\n",
    "sentinel2_collection = ee.ImageCollection('COPERNICUS/S2_SR') \\\n",
    "    .filterBounds(region_boundary.geometry()) \\\n",
    "    .filterMetadata(\"CLOUD_COVERAGE_ASSESSMENT\", 'less_than', 20.0) \\\n",
    "    .filterMetadata('SNOW_ICE_PERCENTAGE','less_than', 5.0) \\\n",
    "    .filterDate(start, finish)  \\\n",
    "    .map(masking).map(clipper_region)\n",
    "sentinel2_collection_list = sentinel2_collection.toList(sentinel2_collection.size().getInfo())\n",
    "\n",
    "#вынимаем уникальные даты из датасета\n",
    "sentinel2_collection_list = sentinel2_collection.toList(sentinel2_collection.size().getInfo())\n",
    "sentinel2_time_list = []\n",
    "for i in range(sentinel2_collection.size().getInfo()):\n",
    "    img = ee.Image(sentinel2_collection_list.get(i))\n",
    "    time = ee.Date(img.get('system:time_start')).format('YYYY-MM-dd').getInfo()\n",
    "    sentinel2_time_list.append(time)\n",
    "\n",
    "#уникальные даты из датасета\n",
    "unique_dates = sorted(list(set(sentinel2_time_list)))\n",
    "\n",
    "diff = finish.difference(start , 'day')\n",
    "Range = ee.List.sequence(0, diff.subtract(1)).map(lambda day :  start.advance(day,'day'))\n",
    "def day_mosaics(date , newlist):\n",
    "    date = ee.Date(date)\n",
    "    newlist = ee.List(newlist)\n",
    "    \n",
    "    filtered = sentinel2_collection.filterDate(date , date.advance(1,'day'))\n",
    "    \n",
    "    image = ee.Image(filtered.mosaic())\n",
    "    \n",
    "    return ee.List(ee.Algorithms.If(filtered.size(), newlist.add(image), newlist))\n",
    "sentinel2_collection_mosaic = ee.ImageCollection(ee.List(Range.iterate(day_mosaics, ee.List([]))))"
   ]
  },
  {
   "cell_type": "code",
   "execution_count": 5,
   "metadata": {},
   "outputs": [],
   "source": [
    "#визуал для сентинел 2 \n",
    "visualization = {\"min\": 0.0, \"max\": 2000,\"bands\": ['B4', 'B3', 'B2']}"
   ]
  },
  {
   "cell_type": "markdown",
   "metadata": {},
   "source": [
    "коллекция нормальная получилась, завтра продолжим примерный план того чего надо сделать \n",
    "1) построить NDTI \n",
    "2) добавить геометрии хозяйств(не забыть бы дома все взять что нужно) \n",
    "3) вытащить данные(желательно не одну точку а просто тупо вынуть все значения пикселей по геометрии, пускай там будет массив) \n",
    "4) проверить нормальность распределения этого массива \n",
    "5) выбрать описательную стату(скорее всего это медиана будет) \n",
    "6) можно ради интереса построить динамику изменения во времени NDTI (можно еще NDVI) и понять когда значения падают но я не вижу в этом никакого смысла\n",
    "7) далее надо посчитать minNDTI и уже его значения обсчитать\n",
    "8) ну и по итогу посмотреть будет ли разница по minNDTI по хозяйствам (ну такой уровень довольно высокий но так я покажу что minNDTI является хорошим прямым признаком прямого посева) \n",
    "9) ну и дальше A/B тестирование и визуализация графичками, должно получиться неплохо \n"
   ]
  },
  {
   "cell_type": "code",
   "execution_count": 10,
   "metadata": {},
   "outputs": [],
   "source": [
    "def sentinel2_NDTI(image):\n",
    "    NDTI = image.normalizedDifference(['B11', 'B12']).rename('NDTI')\n",
    "    return image.addBands([NDTI])\n",
    "\n",
    "MiniNDTI = sentinel2_collection_mosaic.map(sentinel2_NDTI).select('NDTI').min().rename('minNDTI')"
   ]
  },
  {
   "cell_type": "code",
   "execution_count": 12,
   "metadata": {},
   "outputs": [],
   "source": [
    "Budenovsk.addLayer(MiniNDTI, {'min' : 0 , 'max' : 0.2, 'palette' :['FFFF00','FFF000','FF0000' ]}, \"minNDTI\")"
   ]
  },
  {
   "cell_type": "code",
   "execution_count": 69,
   "metadata": {},
   "outputs": [],
   "source": [
    "Archangelskoe = gpd.read_file('data/archangelskoe_utm38.geojson')\n",
    "Praskoveya = gpd.read_file('Data/praskoveya_utm38.geojson')\n",
    "\n",
    "Archangelskoe['type'] = 'PP'\n",
    "Praskoveya['type'] = 'TT'\n",
    "\n",
    "fields = geemap.geopandas_to_ee(Praskoveya.append(Archangelskoe)[['type','geometry']])\n",
    "\n"
   ]
  },
  {
   "cell_type": "markdown",
   "metadata": {},
   "source": [
    "# Все подготовительные работы проведены теперь можно создавать боковые ветки и работать уже по плану"
   ]
  },
  {
   "cell_type": "code",
   "execution_count": null,
   "metadata": {},
   "outputs": [],
   "source": []
  }
 ],
 "metadata": {
  "kernelspec": {
   "display_name": "Python 3",
   "language": "python",
   "name": "python3"
  },
  "language_info": {
   "codemirror_mode": {
    "name": "ipython",
    "version": 3
   },
   "file_extension": ".py",
   "mimetype": "text/x-python",
   "name": "python",
   "nbconvert_exporter": "python",
   "pygments_lexer": "ipython3",
   "version": "3.7.4"
  }
 },
 "nbformat": 4,
 "nbformat_minor": 5
}
